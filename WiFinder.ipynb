{
 "cells": [
  {
   "cell_type": "markdown",
   "id": "b5f9bed6-42f3-416c-89c5-6cbe632e0c0e",
   "metadata": {
    "tags": []
   },
   "source": [
    "# WiFinder"
   ]
  },
  {
   "cell_type": "markdown",
   "id": "0d0e771b-e5d9-44a7-86e2-a0a7ca398d50",
   "metadata": {
    "tags": []
   },
   "source": [
    "#### About WiFinder"
   ]
  },
  {
   "cell_type": "markdown",
   "id": "2437bbf1-65c8-4ceb-a93a-4bb2df1e640b",
   "metadata": {},
   "source": [
    "WiFinder is a Jupyter-based project that ingests iOS WiFi database files (i.e., \"consolidated.db\") and outputs a map of locations with relevant metadata.\n",
    "\n",
    "WiFinder will also ingest lists of IP addresses and output a map of locations with relevant metada."
   ]
  },
  {
   "cell_type": "markdown",
   "id": "36800115-88d5-4835-a726-efa301d55afd",
   "metadata": {
    "jp-MarkdownHeadingCollapsed": true,
    "tags": []
   },
   "source": [
    "#### Dependencies"
   ]
  },
  {
   "cell_type": "code",
   "execution_count": null,
   "id": "727e607f-f1a8-466d-829c-5d9fdf4ca106",
   "metadata": {},
   "outputs": [],
   "source": [
    "!pip freeze"
   ]
  },
  {
   "cell_type": "markdown",
   "id": "58813879-46f4-4eb1-83c7-c682851ad702",
   "metadata": {
    "jp-MarkdownHeadingCollapsed": true,
    "tags": []
   },
   "source": [
    "#### Sources"
   ]
  },
  {
   "cell_type": "markdown",
   "id": "d9709e13-0b6a-4606-9d38-6b2482206864",
   "metadata": {},
   "source": [
    "* https://stackoverflow.com/questions/29216889/slicing-a-dictionary\n",
    "* https://developer.apple.com/documentation/corefoundation/cfabsolutetime\n",
    "* https://stackoverflow.com/questions/16901279/convert-mac-timestamps-with-python\n",
    "* https://sqliteviewer.app/\n",
    "* https://www.sqlitetutorial.net/sqlite-python/sqlite-python-select/\n",
    "* https://pypi.org/project/mac-vendor-lookup/\n",
    "* https://www.geeksforgeeks.org/get-the-city-state-and-country-names-from-latitude-and-longitude-using-python/\n",
    "* https://towardsdatascience.com/pythons-geocoding-convert-a-list-of-addresses-into-a-map-f522ef513fd6\n",
    "* https://fontawesome.com/icons\n",
    "* https://pynative.com/python-json-load-and-loads-to-parse-json/\n",
    "* https://www.freecodecamp.org/news/how-to-get-location-information-of-ip-address-using-python/\n",
    "* http://sleuthkit.org/autopsy/docs/user-docs/4.19.3/ds_page.html#ds_log"
   ]
  },
  {
   "cell_type": "markdown",
   "id": "f4a7c9c0-70f6-4f49-aefc-8cefefcc419d",
   "metadata": {
    "jp-MarkdownHeadingCollapsed": true,
    "tags": []
   },
   "source": [
    "## Boilerplate"
   ]
  },
  {
   "cell_type": "markdown",
   "id": "f49f3ffe-4fa7-44d9-a0c1-762a7e115ca6",
   "metadata": {
    "tags": []
   },
   "source": [
    "### Setup"
   ]
  },
  {
   "cell_type": "code",
   "execution_count": 1,
   "id": "a1f0c518-502b-46b3-8bcb-9479157fae6d",
   "metadata": {},
   "outputs": [],
   "source": [
    "from IPython.display import display, clear_output\n",
    "from mac_vendor_lookup import AsyncMacLookup\n",
    "from timezonefinder import TimezoneFinder\n",
    "from folium.plugins import MarkerCluster\n",
    "from geopy.geocoders import Nominatim\n",
    "from sqlite3 import connect\n",
    "from pathlib import Path\n",
    "\n",
    "import ipywidgets as widgets\n",
    "\n",
    "import datetime\n",
    "import requests\n",
    "import codecs\n",
    "import folium\n",
    "import json as js\n",
    "import time\n",
    "import os\n",
    "\n",
    "from wifinder import Display, DBDisplay, IPDisplay"
   ]
  },
  {
   "cell_type": "markdown",
   "id": "a26d91f7-88d7-458a-9cbc-acf8e4557722",
   "metadata": {
    "tags": []
   },
   "source": [
    "### Classes"
   ]
  },
  {
   "cell_type": "markdown",
   "id": "a8b6c9b6-f062-42c2-b4c2-7133534c183d",
   "metadata": {
    "jp-MarkdownHeadingCollapsed": true,
    "tags": []
   },
   "source": [
    "#### Display Superclass"
   ]
  },
  {
   "cell_type": "code",
   "execution_count": null,
   "id": "2a3ebfdf-7257-49d5-b56b-0ecdac1d2045",
   "metadata": {},
   "outputs": [],
   "source": [
    "# display base class\n",
    "class Display(object):\n",
    "    def __init__(self,\n",
    "                 accepted_filetypes: str,\n",
    "                 button_desc: str,\n",
    "                 button_tooltip: str,\n",
    "                 button_icon: str\n",
    "                 ):\n",
    "        self.output = widgets.Output()\n",
    "        self.data = {}\n",
    "\n",
    "        # create upload tab\n",
    "        uploader = widgets.FileUpload(accept=accepted_filetypes,\n",
    "                                      multiple=False)\n",
    "        button_resolve = widgets.Button(description=button_desc,\n",
    "                                        disabled=False,\n",
    "                                        tooltip=button_tooltip,\n",
    "                                        button_style='info',\n",
    "                                        icon=button_icon)\n",
    "        button_resolve.on_click(self.button_resolve_pressed)\n",
    "        button_save = widgets.Button(description=\"Save Results\",\n",
    "                                     disabled=False,\n",
    "                                     tooltip=\"Save Metadata to JSON\",\n",
    "                                     button_style='info',\n",
    "                                     icon='download')\n",
    "        button_save.on_click(self.button_save_pressed)\n",
    "        self.upload = widgets.HBox([uploader, button_resolve, button_save])\n",
    "\n",
    "        # create file options tab\n",
    "        check_unique = widgets.Checkbox(value=True,\n",
    "                                        description='Include duplicate entries',\n",
    "                                        disabled=False,\n",
    "                                        indent=False)\n",
    "        check_zeroes = widgets.Checkbox(value=False,\n",
    "                                        description='Include unresolved entries',\n",
    "                                        disabled=False,\n",
    "                                        indent=False)\n",
    "        int_max = widgets.IntText(value=None,\n",
    "                                  description=\"Max entries\",\n",
    "                                  disabled=False,\n",
    "                                  layout=widgets.Layout(width='initial'))\n",
    "        self.options = widgets.HBox([check_unique, check_zeroes, int_max])\n",
    "\n",
    "        # create map options tab\n",
    "        dropdown_map = widgets.Dropdown(options=['OpenStreetMap', 'Stamen Terrain', 'Stamen Toner',\n",
    "                                                 'Stamen Watercolor', 'CartoDB positron', 'CartoDB dark_matter'],\n",
    "                                        value='OpenStreetMap',\n",
    "                                        description='Map type',\n",
    "                                        disabled=False)\n",
    "        self.map_options = widgets.HBox([dropdown_map])\n",
    "\n",
    "        # create struct object (contains all other objects)\n",
    "        self.struct = widgets.Tab()\n",
    "        self.struct.children = [self.upload, self.options, self.map_options]\n",
    "        self.struct.titles = [\"Upload File\", \" File Options\", \"Map Options\"]\n",
    "        self.display(self.struct)\n",
    "\n",
    "    # ====================\n",
    "    # Interaction Methods\n",
    "    # ====================\n",
    "\n",
    "    # react to resolve button pressed\n",
    "    def button_resolve_pressed(self, button):\n",
    "        return None\n",
    "\n",
    "    # react to JSON save button pressed\n",
    "    def button_save_pressed(self, button):\n",
    "        try:\n",
    "            json_dict = dict([(str(key), self.data[key]) for key in list(self.data.keys())])\n",
    "            json_obj = js.dumps(json_dict, indent=4)\n",
    "            with open(\"./json_{}.json\".format(self.upload.children[0].value[0].name), \"w\", encoding=\"utf-8\") as jf:\n",
    "                jf.write(json_obj)\n",
    "            self.upload.children[2].button_style = 'success'\n",
    "        except:\n",
    "            self.upload.children[2].button_style = 'warning'\n",
    "\n",
    "    # ====================\n",
    "    # Visualization Methods\n",
    "    # ====================\n",
    "\n",
    "    # create temporary progress bar\n",
    "    def get_progress(self, val: int):\n",
    "        return widgets.IntProgress(\n",
    "            value=0,\n",
    "            min=0,\n",
    "            max=val,\n",
    "            description=\"Processing\",\n",
    "            bar_style=\"success\",\n",
    "            style={\"bar_color\": \"yellow\"},\n",
    "            orientation=\"horizontal\")\n",
    "\n",
    "    def display(self, obj):\n",
    "        clear_output()\n",
    "        display(obj)"
   ]
  },
  {
   "cell_type": "markdown",
   "id": "4026ed29-965e-4339-8b4e-8c0a49dbdae5",
   "metadata": {
    "jp-MarkdownHeadingCollapsed": true,
    "tags": []
   },
   "source": [
    "#### DBDisplay Class"
   ]
  },
  {
   "cell_type": "code",
   "execution_count": null,
   "id": "12dd6327-7125-4bf8-b4bb-3b2cf669c99e",
   "metadata": {},
   "outputs": [],
   "source": [
    "# populate display for DB upload\n",
    "class DBDisplay(Display):\n",
    "    def __init__(self):\n",
    "        super().__init__(\".db, .json\", \"Connect\", \"Click to Connect to DB\", 'database')\n",
    "\n",
    "    # ====================\n",
    "    # Visualization Methods\n",
    "    # ====================\n",
    "\n",
    "    def get_struct(self):\n",
    "        return self.data[list(self.data.keys())[0]]\n",
    "\n",
    "    # ====================\n",
    "    # Interaction Methods\n",
    "    # ====================\n",
    "\n",
    "    # react to resolve button pressed\n",
    "    def button_resolve_pressed(self, button):\n",
    "        try:\n",
    "            self.db_connect()\n",
    "            self.upload.children[1].button_style = 'success'\n",
    "            self.upload.children[2].button_style = 'info'\n",
    "        except:\n",
    "            self.upload.children[1].button_style = 'warning'\n",
    "\n",
    "    # ====================\n",
    "    # Background Methods\n",
    "    # ====================\n",
    "\n",
    "    # create temporary db file\n",
    "    def tmp_save(self):\n",
    "        if len(self.upload.children[0].value) > 0:\n",
    "            os.makedirs(\"./.tmp\", exist_ok=True)\n",
    "            self.tmp_file = Path(os.path.join(\"./.tmp\", self.upload.children[0].value[0].name)).expanduser().resolve()\n",
    "\n",
    "            with open(self.tmp_file, \"wb\") as fp:\n",
    "                fp.write(self.upload.children[0].value[0].content)\n",
    "        else:\n",
    "            return False\n",
    "        return True\n",
    "\n",
    "    # delete temporary db file\n",
    "    def tmp_del(self):\n",
    "        os.remove(self.tmp_file)\n",
    "\n",
    "    # ====================\n",
    "    # Metadata Methods\n",
    "    # ====================\n",
    "\n",
    "    # connect to and read database\n",
    "    def db_connect(self):\n",
    "        # handle .db/.json upload\n",
    "        if len(self.upload.children[0].value) > 0:\n",
    "            ext = self.upload.children[0].value[0].name.split(\".\")[-1]\n",
    "            # if .json is uploaded, read from memory and block re-parsing later\n",
    "            if ext == \"json\":\n",
    "                data_raw = js.loads(self.upload.children[0].value[0].content.tobytes())\n",
    "                data = {}\n",
    "\n",
    "                for coord_raw in data_raw:\n",
    "                    coord = tuple([float(k) for k in coord_raw.strip(\"()\").split(\", \")])\n",
    "\n",
    "                    if self.options.children[1].value is False:\n",
    "                        if coord[0] == 0.0 and coord[1] == 0.0:\n",
    "                            continue\n",
    "\n",
    "                    # if duplicate entries is true, always add MAC entry\n",
    "                    # if duplicate entries is false, only add one MAC entry\n",
    "                    data[coord] = {'db_meta': [],\n",
    "                                   'loc_meta': {}}\n",
    "\n",
    "                    data[coord]['db_meta'] = data_raw[coord_raw]['db_meta'] if sui.options.children[\n",
    "                                                                                   0].value is True else \\\n",
    "                    data_raw[coord_raw]['db_meta'][0]\n",
    "                    data[coord]['loc_meta'] = data_raw[coord_raw]['loc_meta']\n",
    "\n",
    "            # if .db is uploaded, save to temp database and connect\n",
    "            elif ext == \"db\":\n",
    "                if not self.tmp_save():\n",
    "                    # break and pass to error handler if saving cannot occur\n",
    "                    assert False\n",
    "\n",
    "                # read sql database\n",
    "                conn = connect(self.tmp_file)\n",
    "                cur = conn.cursor()\n",
    "                cur.execute(\"SELECT * from WifiLocation\")\n",
    "                rows = cur.fetchall()\n",
    "\n",
    "                self.tmp_del()\n",
    "\n",
    "                data = {}\n",
    "                # format: (lat, lon): [MAC address, 802.11 TSFT Timestamp]\n",
    "                for row in [r[0:4] for r in rows]:\n",
    "                    coord = row[2:4]\n",
    "                    if coord not in data:\n",
    "                        if self.options.children[1].value is False and (coord[0] == 0.0 and coord[1] == 0.0):\n",
    "                            continue\n",
    "\n",
    "                    data[coord] = {'db_meta': [],\n",
    "                                   'loc_meta': {}\n",
    "                                   }\n",
    "\n",
    "                    # if duplicate entries is true, always add MAC entry\n",
    "                    entry = {'mac': row[0],\n",
    "                             'manf': \"\",\n",
    "                             'cfabsolute': row[1],\n",
    "                             'timestamp': \"\"\n",
    "                             }\n",
    "                    if self.options.children[0].value is True:\n",
    "                        data[coord][\"db_meta\"].append(entry)\n",
    "                    # if duplicate entries is false, only add one MAC entry\n",
    "                    elif len(data[coord][\"db_meta\"]) == 0:\n",
    "                        data[coord][\"db_meta\"].append(entry)\n",
    "\n",
    "            # trim from value cap option\n",
    "            if self.options.children[2].value > 0:\n",
    "                data = dict([(key, data[key]) for key in list(data.keys())[0:int(self.options.children[2].value)]])\n",
    "\n",
    "            self.data = data\n",
    "\n",
    "    # from metadata, get map object\n",
    "    def build_map(self):\n",
    "        self.marker_cluster = MarkerCluster()\n",
    "\n",
    "        for coord in self.data:\n",
    "            title = \"\"\"\n",
    "            <b>Location:</b><br>\n",
    "            {}<hr>\n",
    "            <b>Coordinates:</b><br>\n",
    "            {} {}<hr>\n",
    "            <b>MAC Address:</b><br>\n",
    "            {} <hr>\n",
    "            <b>Timestamp:</b><br>\n",
    "            {}\"\"\"\n",
    "\n",
    "            tool = \"{} {}\".format(coord[0], coord[1])\n",
    "\n",
    "            if self.options.children[0].value is True:\n",
    "                # populate by MAC occurance\n",
    "                for entry in self.data[coord]['db_meta']:\n",
    "                    title = title.format(self.data[coord]['loc_meta']['display_name'],  # location\n",
    "                                         coord[0], coord[1],  # coordinates\n",
    "                                         \"{} ({})\".format(entry['mac'], entry['manf']) if entry['manf'] != \"\" else\n",
    "                                         entry['mac'],  # MAC address\n",
    "                                         entry['timestamp'])  # timestamp\n",
    "                    # create point\n",
    "                    folium.Marker(location=(coord[0], coord[1]),\n",
    "                                  popup=title,\n",
    "                                  tooltip=tool\n",
    "                                  ).add_to(self.marker_cluster)\n",
    "\n",
    "            else:\n",
    "                # populate by coord occurance\n",
    "                entry = self.data[coord]['db_meta'][0]\n",
    "                title = title.format(self.data[coord]['loc_meta']['display_name'],  # location\n",
    "                                     coord[0], coord[1],\n",
    "                                     \"{} ({})\".format(entry['mac'], entry['manf']) if entry['manf'] != \"\" else entry[\n",
    "                                         'mac'],\n",
    "                                     entry['timestamp'])\n",
    "                # create point\n",
    "                folium.Marker(location=(coord[0],\n",
    "                                        coord[1]),\n",
    "                              popup=title,\n",
    "                              tooltip=tool\n",
    "                              ).add_to(self.marker_cluster)\n",
    "\n",
    "    # update map from options and display\n",
    "    def get_map(self):\n",
    "        start_coords = list(self.data.keys())[0]\n",
    "        self.map = folium.Map(location=[start_coords[0],\n",
    "                                        start_coords[1]],\n",
    "                              zoom_start=2,\n",
    "                              tiles=self.map_options.children[0].value)\n",
    "        self.marker_cluster.add_to(self.map)\n",
    "\n",
    "        self.display(self.map)"
   ]
  },
  {
   "cell_type": "markdown",
   "id": "24cd03ef-583e-4800-9e34-dfc2f22f156f",
   "metadata": {
    "jp-MarkdownHeadingCollapsed": true,
    "tags": []
   },
   "source": [
    "#### IPDisplay Class"
   ]
  },
  {
   "cell_type": "code",
   "execution_count": null,
   "id": "e1728e5e-6492-4da5-8597-a2c42830e4a2",
   "metadata": {},
   "outputs": [],
   "source": [
    "# populate display for IP uploads\n",
    "class IPDisplay(Display):\n",
    "    def __init__(self):\n",
    "        super().__init__(\".ip, .txt\", \"Search\", \"Click to Search IPs\", 'wifi')\n",
    "        self.map_options.children[0].value = \"CartoDB positron\"\n",
    "\n",
    "    # ====================\n",
    "    # Interaction Methods\n",
    "    # ====================\n",
    "\n",
    "    # react to resolve button pressed\n",
    "    def button_resolve_pressed(self, button):\n",
    "        try:\n",
    "            if len(self.upload.children[0].value) > 0:\n",
    "                ips = self.upload.children[0].value[0].content.tobytes().decode().replace('\\r', '').split('\\n')\n",
    "\n",
    "                for ip in ips:\n",
    "                    self.data[ip] = {}\n",
    "            self.upload.children[1].button_style = 'success'\n",
    "            self.upload.children[2].button_style = 'info'\n",
    "        except:\n",
    "            self.upload.children[1].button_style = 'warning'\n",
    "\n",
    "    # ====================\n",
    "    # Collection Methods\n",
    "    # ====================\n",
    "\n",
    "    # query ipapi API for metadata\n",
    "    def get_loc(self, ip_addr):\n",
    "        try:\n",
    "            return requests.get(f'https://ipapi.co/{ip_addr}/json/').json()\n",
    "        except:\n",
    "            return None\n",
    "\n",
    "    # format returned metadata to data struct\n",
    "    def format_meta(self, ip_addr, meta):\n",
    "        if meta is None:\n",
    "            self.data[ip_addr] = None\n",
    "        elif 'error' in meta:\n",
    "            self.data[ip_addr] = None\n",
    "        elif meta['latitude'] is None or meta['longitude'] is None:\n",
    "            self.data[ip_addr] = None\n",
    "        else:\n",
    "            self.data[ip_addr] = meta\n",
    "            self.data[ip_addr]['coord'] = [meta['latitude'], meta['longitude']]\n",
    "\n",
    "    # ====================\n",
    "    # Metadata Methods\n",
    "    # ====================\n",
    "\n",
    "    # from metadata, get map object\n",
    "    def build_map(self):\n",
    "        self.marker_cluster = MarkerCluster()\n",
    "        for ip in self.data:\n",
    "            # for simplicity,\n",
    "            if self.data[ip] is None:\n",
    "                continue\n",
    "\n",
    "            title = \"\"\"\n",
    "            <b>IP Address</b><br>\n",
    "            {}<hr>\n",
    "            <b>Organization</b><br>\n",
    "            {}<hr>\n",
    "            <b>Network</b><br>\n",
    "            {}<hr>\n",
    "            <b>Location</b><br>\n",
    "            {}<hr>\n",
    "            <b>Timezone</b><br>\n",
    "            {}\"\"\"\n",
    "\n",
    "            tool = ip\n",
    "\n",
    "            # populate map by IP address\n",
    "            title = title.format(self.data[ip]['ip'],\n",
    "                                 self.data[ip]['org'],\n",
    "                                 self.data[ip]['network'],\n",
    "                                 \"{}, {}, {} {}\".format(self.data[ip]['city'],\n",
    "                                                        self.data[ip]['region'],\n",
    "                                                        self.data[ip]['country_name'],\n",
    "                                                        \"({})\".format(self.data[ip]['postal']) if self.data[ip][\n",
    "                                                                                                      'postal'] is not None else \"\"\n",
    "                                                        ),\n",
    "                                 self.data[ip]['timezone']\n",
    "                                 )\n",
    "            # add marker to marker cluster\n",
    "            folium.Marker(location=(self.data[ip]['coord'][0],\n",
    "                                    self.data[ip]['coord'][1]),\n",
    "                          popup=title,\n",
    "                          tooltip=tool\n",
    "                          ).add_to(self.marker_cluster)\n",
    "\n",
    "    # update map from options and display\n",
    "    def get_map(self):\n",
    "        start_coords = self.data[list(self.data.keys())[0]]['coord']\n",
    "        self.map = folium.Map(location=[start_coords[0],\n",
    "                                        start_coords[1]],\n",
    "                              zoom_start=2,\n",
    "                              tiles=self.map_options.children[0].value)\n",
    "        self.marker_cluster.add_to(self.map)\n",
    "\n",
    "        self.display(self.map)"
   ]
  },
  {
   "cell_type": "markdown",
   "id": "3aee1d2c-fb63-4155-a5cc-5ea1ea55da9c",
   "metadata": {
    "jp-MarkdownHeadingCollapsed": true,
    "tags": []
   },
   "source": [
    "## Display Superclass"
   ]
  },
  {
   "cell_type": "code",
   "execution_count": null,
   "id": "091cb254-4359-414a-9240-be94e45caa23",
   "metadata": {},
   "outputs": [],
   "source": [
    "dsp = Display(\"all\", \"Button\", \"Button\", \"button\")"
   ]
  },
  {
   "cell_type": "markdown",
   "id": "a6f4902e-2b5e-4356-adc4-c1cc1b744dc7",
   "metadata": {
    "tags": []
   },
   "source": [
    "## DBDisplay"
   ]
  },
  {
   "cell_type": "markdown",
   "id": "9a86f051-25ee-430f-b1b2-fd15b9824599",
   "metadata": {},
   "source": [
    "#### 1. Data Ingest"
   ]
  },
  {
   "cell_type": "code",
   "execution_count": null,
   "id": "65c304d2-2d8d-4e3e-ad79-b6d5c1a4dab8",
   "metadata": {},
   "outputs": [],
   "source": [
    "sui = DBDisplay()"
   ]
  },
  {
   "cell_type": "markdown",
   "id": "b6b86e22-b5ed-4b9c-85a5-5aee37f68c7f",
   "metadata": {},
   "source": [
    "#### 2. Metadata Consumption"
   ]
  },
  {
   "cell_type": "code",
   "execution_count": null,
   "id": "9b5c14cd-024f-4f98-ac0d-1f1448557c1d",
   "metadata": {},
   "outputs": [],
   "source": [
    "# create loading display\n",
    "prog = sui.get_progress(len(sui.data))\n",
    "sui.display(prog)\n",
    "\n",
    "cfabsolute = datetime.datetime.strptime(\"01-01-2001\", \"%m-%d-%Y\")\n",
    "zone_finder = TimezoneFinder()\n",
    "mac = AsyncMacLookup()\n",
    "geolocator = Nominatim(user_agent=\"geoapiExercises\")\n",
    "\n",
    "# parse metadata and perform lookups\n",
    "for coord in sui.data:\n",
    "    for num, entry in enumerate(sui.data[coord]['db_meta']):\n",
    "        \n",
    "        # get timestamp from 802.11 CFAbsoluteTime timestamp\n",
    "        timestamp = (cfabsolute + datetime.timedelta(seconds=entry['cfabsolute'])).strftime(\"%a, %d %b %Y %H:%M:%S\")\n",
    "        timezone = zone_finder.timezone_at(lat=coord[0], lng=coord[1])\n",
    "        sui.data[coord]['db_meta'][num]['timestamp'] = (\"{} ({})\".format(timestamp, timezone))\n",
    "\n",
    "        # get MAC address manufacturers\n",
    "        try:\n",
    "            id = await mac.lookup(entry['mac'])\n",
    "            sui.data[coord][\"db_meta\"][num]['manf'] = id\n",
    "        except:\n",
    "            sui.data[coord][\"db_meta\"][num]['manf'] = \"\"\n",
    "            \n",
    "    # get addresses from coordinates\n",
    "    json = geolocator.reverse(\"{},{}\".format(coord[0], coord[1])).raw\n",
    "    sui.data[coord][\"loc_meta\"] = json\n",
    "    \n",
    "    prog.value += 1\n",
    "prog.style={\"bar_color\": \"green\"}"
   ]
  },
  {
   "cell_type": "markdown",
   "id": "c05f4377-0def-488b-89af-b6a174a5fc6e",
   "metadata": {},
   "source": [
    "#### 3. Map Plotting"
   ]
  },
  {
   "cell_type": "code",
   "execution_count": null,
   "id": "92b7bf0b-9c31-4393-9b00-3e43f506a27b",
   "metadata": {},
   "outputs": [],
   "source": [
    "# format markers for map\n",
    "sui.build_map()\n",
    "\n",
    "# create and display map\n",
    "sui.get_map()"
   ]
  },
  {
   "cell_type": "markdown",
   "id": "0e45131a-3f5a-4718-833b-dcb15f63c0d1",
   "metadata": {
    "jp-MarkdownHeadingCollapsed": true,
    "tags": []
   },
   "source": [
    "## IPDisplay"
   ]
  },
  {
   "cell_type": "markdown",
   "id": "675063f2-2220-417a-a971-bc4e6944d9ce",
   "metadata": {},
   "source": [
    "#### 1. Data Ingest"
   ]
  },
  {
   "cell_type": "code",
   "execution_count": null,
   "id": "51b57916-01b6-44e9-8a75-6b83eb39d7f5",
   "metadata": {},
   "outputs": [],
   "source": [
    "ipd = IPDisplay()"
   ]
  },
  {
   "cell_type": "markdown",
   "id": "b112da03-6c5a-4174-b8d9-9d4771cee6e5",
   "metadata": {},
   "source": [
    "#### 2. Metadata Consumption"
   ]
  },
  {
   "cell_type": "code",
   "execution_count": null,
   "id": "2c9c5595-be15-4ce7-847f-6a3314a61b2b",
   "metadata": {},
   "outputs": [],
   "source": [
    "# create loading display\n",
    "ip_prog = ipd.get_progress(len(ipd.data))\n",
    "ipd.display(ip_prog)\n",
    "\n",
    "# parse metadata and perform lookups\n",
    "for ip in ipd.data:\n",
    "    meta = ipd.get_loc(ip)\n",
    "    ipd.format_meta(ip, meta)\n",
    "    ip_prog.value += 1\n",
    "ip_prog.style={\"bar_color\": \"green\"}\n",
    "\n",
    "# format markers for map\n",
    "ipd.build_map()"
   ]
  },
  {
   "cell_type": "markdown",
   "id": "7115af46-cc1b-4afb-95dd-6b9ad25f33e2",
   "metadata": {},
   "source": [
    "#### 3. Map Plotting"
   ]
  },
  {
   "cell_type": "code",
   "execution_count": null,
   "id": "fb3e07d1-5a79-4d44-9990-cf285e70276e",
   "metadata": {},
   "outputs": [],
   "source": [
    "ipd.get_map()"
   ]
  }
 ],
 "metadata": {
  "kernelspec": {
   "display_name": "wfenv",
   "language": "python",
   "name": "wfenv"
  },
  "language_info": {
   "codemirror_mode": {
    "name": "ipython",
    "version": 3
   },
   "file_extension": ".py",
   "mimetype": "text/x-python",
   "name": "python",
   "nbconvert_exporter": "python",
   "pygments_lexer": "ipython3",
   "version": "3.8.10"
  }
 },
 "nbformat": 4,
 "nbformat_minor": 5
}
